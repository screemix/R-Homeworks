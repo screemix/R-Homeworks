{
 "cells": [
  {
   "cell_type": "markdown",
   "metadata": {},
   "source": [
    "## Libs"
   ]
  },
  {
   "cell_type": "code",
   "execution_count": 1,
   "metadata": {
    "vscode": {
     "languageId": "r"
    }
   },
   "outputs": [],
   "source": [
    "install.packages(\"VIM\")\n",
    "library(VIM)\n",
    "library(vegan)\n",
    "library(dplyr)\n"
   ]
  },
  {
   "cell_type": "markdown",
   "metadata": {},
   "source": [
    "## EDA"
   ]
  },
  {
   "cell_type": "code",
   "execution_count": 2,
   "metadata": {
    "vscode": {
     "languageId": "r"
    }
   },
   "outputs": [
    {
     "data": {
      "text/html": [
       "<table class=\"dataframe\">\n",
       "<caption>A data.frame: 6 x 200</caption>\n",
       "<thead>\n",
       "\t<tr><th></th><th scope=col>SITE</th><th scope=col>Hydrozoa..Hydrozoa</th><th scope=col>Turbellaria..Turbellaria</th><th scope=col>Nematoda</th><th scope=col>Gordiidae</th><th scope=col>Tardigrada</th><th scope=col>Bivalvia..Sphaeriidae</th><th scope=col>Gastropoda..Hydrobiidae</th><th scope=col>Gastropoda..Planorbidae</th><th scope=col>Gastropoda..Physidae</th><th scope=col>...</th><th scope=col>Leptoceridae...Notoperata.sparsa</th><th scope=col>Philopotamidae...Hydrobiosella.waddama</th><th scope=col>Philorheithridae...Aphilorheithrus.sp.AV3</th><th scope=col>Philorheithridae...Austrheithrus.sp.</th><th scope=col>Philorheithridae...Tasmanthrus.angustipennis</th><th scope=col>Philorheithridae...Tasmanthrus.sp.</th><th scope=col>Philorheithridae...unid.tiny.philoreithrids</th><th scope=col>Polycentropodidae...Genus.I.sp..AV3</th><th scope=col>Polycentropodidae...Plectrocnemia.sp.AV1</th><th scope=col>Tasimiidae...Tasimia.sp.AV1</th></tr>\n",
       "\t<tr><th></th><th scope=col>&lt;chr&gt;</th><th scope=col>&lt;int&gt;</th><th scope=col>&lt;int&gt;</th><th scope=col>&lt;int&gt;</th><th scope=col>&lt;int&gt;</th><th scope=col>&lt;int&gt;</th><th scope=col>&lt;int&gt;</th><th scope=col>&lt;int&gt;</th><th scope=col>&lt;int&gt;</th><th scope=col>&lt;int&gt;</th><th scope=col>...</th><th scope=col>&lt;int&gt;</th><th scope=col>&lt;int&gt;</th><th scope=col>&lt;int&gt;</th><th scope=col>&lt;int&gt;</th><th scope=col>&lt;int&gt;</th><th scope=col>&lt;int&gt;</th><th scope=col>&lt;int&gt;</th><th scope=col>&lt;int&gt;</th><th scope=col>&lt;int&gt;</th><th scope=col>&lt;int&gt;</th></tr>\n",
       "</thead>\n",
       "<tbody>\n",
       "\t<tr><th scope=row>1</th><td>Ansons river   </td><td>0</td><td>0</td><td>5</td><td>0</td><td>0</td><td> 43</td><td> 0</td><td>0</td><td>0</td><td>...</td><td>0</td><td>0</td><td>2</td><td>0</td><td>0</td><td> 0</td><td>0</td><td>0</td><td>0</td><td>0</td></tr>\n",
       "\t<tr><th scope=row>2</th><td>Black river    </td><td>0</td><td>0</td><td>0</td><td>0</td><td>0</td><td>  0</td><td> 0</td><td>0</td><td>0</td><td>...</td><td>0</td><td>0</td><td>4</td><td>0</td><td>0</td><td> 0</td><td>0</td><td>0</td><td>0</td><td>0</td></tr>\n",
       "\t<tr><th scope=row>3</th><td>Blackwell river</td><td>0</td><td>2</td><td>0</td><td>0</td><td>0</td><td>  3</td><td>97</td><td>0</td><td>0</td><td>...</td><td>0</td><td>1</td><td>0</td><td>0</td><td>0</td><td>36</td><td>0</td><td>0</td><td>0</td><td>1</td></tr>\n",
       "\t<tr><th scope=row>4</th><td>Boobyalla river</td><td>0</td><td>1</td><td>1</td><td>0</td><td>0</td><td> 36</td><td> 5</td><td>0</td><td>0</td><td>...</td><td>0</td><td>0</td><td>0</td><td>0</td><td>0</td><td> 0</td><td>0</td><td>0</td><td>0</td><td>0</td></tr>\n",
       "\t<tr><th scope=row>5</th><td>Dans rivulet   </td><td>0</td><td>0</td><td>1</td><td>0</td><td>0</td><td>  0</td><td> 1</td><td>0</td><td>0</td><td>...</td><td>0</td><td>0</td><td>4</td><td>0</td><td>1</td><td> 0</td><td>0</td><td>0</td><td>0</td><td>0</td></tr>\n",
       "\t<tr><th scope=row>6</th><td>Deep creek     </td><td>0</td><td>0</td><td>0</td><td>0</td><td>0</td><td>177</td><td>72</td><td>0</td><td>0</td><td>...</td><td>0</td><td>0</td><td>0</td><td>1</td><td>0</td><td>28</td><td>0</td><td>0</td><td>0</td><td>0</td></tr>\n",
       "</tbody>\n",
       "</table>\n"
      ],
      "text/latex": [
       "A data.frame: 6 x 200\n",
       "\\begin{tabular}{r|lllllllllllllllllllll}\n",
       "  & SITE & Hydrozoa..Hydrozoa & Turbellaria..Turbellaria & Nematoda & Gordiidae & Tardigrada & Bivalvia..Sphaeriidae & Gastropoda..Hydrobiidae & Gastropoda..Planorbidae & Gastropoda..Physidae & ... & Leptoceridae...Notoperata.sparsa & Philopotamidae...Hydrobiosella.waddama & Philorheithridae...Aphilorheithrus.sp.AV3 & Philorheithridae...Austrheithrus.sp. & Philorheithridae...Tasmanthrus.angustipennis & Philorheithridae...Tasmanthrus.sp. & Philorheithridae...unid.tiny.philoreithrids & Polycentropodidae...Genus.I.sp..AV3 & Polycentropodidae...Plectrocnemia.sp.AV1 & Tasimiidae...Tasimia.sp.AV1\\\\\n",
       "  & <chr> & <int> & <int> & <int> & <int> & <int> & <int> & <int> & <int> & <int> & ... & <int> & <int> & <int> & <int> & <int> & <int> & <int> & <int> & <int> & <int>\\\\\n",
       "\\hline\n",
       "\t1 & Ansons river    & 0 & 0 & 5 & 0 & 0 &  43 &  0 & 0 & 0 & ... & 0 & 0 & 2 & 0 & 0 &  0 & 0 & 0 & 0 & 0\\\\\n",
       "\t2 & Black river     & 0 & 0 & 0 & 0 & 0 &   0 &  0 & 0 & 0 & ... & 0 & 0 & 4 & 0 & 0 &  0 & 0 & 0 & 0 & 0\\\\\n",
       "\t3 & Blackwell river & 0 & 2 & 0 & 0 & 0 &   3 & 97 & 0 & 0 & ... & 0 & 1 & 0 & 0 & 0 & 36 & 0 & 0 & 0 & 1\\\\\n",
       "\t4 & Boobyalla river & 0 & 1 & 1 & 0 & 0 &  36 &  5 & 0 & 0 & ... & 0 & 0 & 0 & 0 & 0 &  0 & 0 & 0 & 0 & 0\\\\\n",
       "\t5 & Dans rivulet    & 0 & 0 & 1 & 0 & 0 &   0 &  1 & 0 & 0 & ... & 0 & 0 & 4 & 0 & 1 &  0 & 0 & 0 & 0 & 0\\\\\n",
       "\t6 & Deep creek      & 0 & 0 & 0 & 0 & 0 & 177 & 72 & 0 & 0 & ... & 0 & 0 & 0 & 1 & 0 & 28 & 0 & 0 & 0 & 0\\\\\n",
       "\\end{tabular}\n"
      ],
      "text/markdown": [
       "\n",
       "A data.frame: 6 x 200\n",
       "\n",
       "| <!--/--> | SITE &lt;chr&gt; | Hydrozoa..Hydrozoa &lt;int&gt; | Turbellaria..Turbellaria &lt;int&gt; | Nematoda &lt;int&gt; | Gordiidae &lt;int&gt; | Tardigrada &lt;int&gt; | Bivalvia..Sphaeriidae &lt;int&gt; | Gastropoda..Hydrobiidae &lt;int&gt; | Gastropoda..Planorbidae &lt;int&gt; | Gastropoda..Physidae &lt;int&gt; | ... ... | Leptoceridae...Notoperata.sparsa &lt;int&gt; | Philopotamidae...Hydrobiosella.waddama &lt;int&gt; | Philorheithridae...Aphilorheithrus.sp.AV3 &lt;int&gt; | Philorheithridae...Austrheithrus.sp. &lt;int&gt; | Philorheithridae...Tasmanthrus.angustipennis &lt;int&gt; | Philorheithridae...Tasmanthrus.sp. &lt;int&gt; | Philorheithridae...unid.tiny.philoreithrids &lt;int&gt; | Polycentropodidae...Genus.I.sp..AV3 &lt;int&gt; | Polycentropodidae...Plectrocnemia.sp.AV1 &lt;int&gt; | Tasimiidae...Tasimia.sp.AV1 &lt;int&gt; |\n",
       "|---|---|---|---|---|---|---|---|---|---|---|---|---|---|---|---|---|---|---|---|---|---|\n",
       "| 1 | Ansons river    | 0 | 0 | 5 | 0 | 0 |  43 |  0 | 0 | 0 | ... | 0 | 0 | 2 | 0 | 0 |  0 | 0 | 0 | 0 | 0 |\n",
       "| 2 | Black river     | 0 | 0 | 0 | 0 | 0 |   0 |  0 | 0 | 0 | ... | 0 | 0 | 4 | 0 | 0 |  0 | 0 | 0 | 0 | 0 |\n",
       "| 3 | Blackwell river | 0 | 2 | 0 | 0 | 0 |   3 | 97 | 0 | 0 | ... | 0 | 1 | 0 | 0 | 0 | 36 | 0 | 0 | 0 | 1 |\n",
       "| 4 | Boobyalla river | 0 | 1 | 1 | 0 | 0 |  36 |  5 | 0 | 0 | ... | 0 | 0 | 0 | 0 | 0 |  0 | 0 | 0 | 0 | 0 |\n",
       "| 5 | Dans rivulet    | 0 | 0 | 1 | 0 | 0 |   0 |  1 | 0 | 0 | ... | 0 | 0 | 4 | 0 | 1 |  0 | 0 | 0 | 0 | 0 |\n",
       "| 6 | Deep creek      | 0 | 0 | 0 | 0 | 0 | 177 | 72 | 0 | 0 | ... | 0 | 0 | 0 | 1 | 0 | 28 | 0 | 0 | 0 | 0 |\n",
       "\n"
      ],
      "text/plain": [
       "  SITE            Hydrozoa..Hydrozoa Turbellaria..Turbellaria Nematoda\n",
       "1 Ansons river    0                  0                        5       \n",
       "2 Black river     0                  0                        0       \n",
       "3 Blackwell river 0                  2                        0       \n",
       "4 Boobyalla river 0                  1                        1       \n",
       "5 Dans rivulet    0                  0                        1       \n",
       "6 Deep creek      0                  0                        0       \n",
       "  Gordiidae Tardigrada Bivalvia..Sphaeriidae Gastropoda..Hydrobiidae\n",
       "1 0         0           43                    0                     \n",
       "2 0         0            0                    0                     \n",
       "3 0         0            3                   97                     \n",
       "4 0         0           36                    5                     \n",
       "5 0         0            0                    1                     \n",
       "6 0         0          177                   72                     \n",
       "  Gastropoda..Planorbidae Gastropoda..Physidae ...\n",
       "1 0                       0                    ...\n",
       "2 0                       0                    ...\n",
       "3 0                       0                    ...\n",
       "4 0                       0                    ...\n",
       "5 0                       0                    ...\n",
       "6 0                       0                    ...\n",
       "  Leptoceridae...Notoperata.sparsa Philopotamidae...Hydrobiosella.waddama\n",
       "1 0                                0                                     \n",
       "2 0                                0                                     \n",
       "3 0                                1                                     \n",
       "4 0                                0                                     \n",
       "5 0                                0                                     \n",
       "6 0                                0                                     \n",
       "  Philorheithridae...Aphilorheithrus.sp.AV3\n",
       "1 2                                        \n",
       "2 4                                        \n",
       "3 0                                        \n",
       "4 0                                        \n",
       "5 4                                        \n",
       "6 0                                        \n",
       "  Philorheithridae...Austrheithrus.sp.\n",
       "1 0                                   \n",
       "2 0                                   \n",
       "3 0                                   \n",
       "4 0                                   \n",
       "5 0                                   \n",
       "6 1                                   \n",
       "  Philorheithridae...Tasmanthrus.angustipennis\n",
       "1 0                                           \n",
       "2 0                                           \n",
       "3 0                                           \n",
       "4 0                                           \n",
       "5 1                                           \n",
       "6 0                                           \n",
       "  Philorheithridae...Tasmanthrus.sp.\n",
       "1  0                                \n",
       "2  0                                \n",
       "3 36                                \n",
       "4  0                                \n",
       "5  0                                \n",
       "6 28                                \n",
       "  Philorheithridae...unid.tiny.philoreithrids\n",
       "1 0                                          \n",
       "2 0                                          \n",
       "3 0                                          \n",
       "4 0                                          \n",
       "5 0                                          \n",
       "6 0                                          \n",
       "  Polycentropodidae...Genus.I.sp..AV3 Polycentropodidae...Plectrocnemia.sp.AV1\n",
       "1 0                                   0                                       \n",
       "2 0                                   0                                       \n",
       "3 0                                   0                                       \n",
       "4 0                                   0                                       \n",
       "5 0                                   0                                       \n",
       "6 0                                   0                                       \n",
       "  Tasimiidae...Tasimia.sp.AV1\n",
       "1 0                          \n",
       "2 0                          \n",
       "3 1                          \n",
       "4 0                          \n",
       "5 0                          \n",
       "6 0                          "
      ]
     },
     "metadata": {},
     "output_type": "display_data"
    }
   ],
   "source": [
    "fauna <- read.csv(\"fauna.csv\")\n",
    "\n",
    "# ensuring the same order of sites in fauna dataframe\n",
    "fauna <- fauna[order(fauna$SITE), ]\n",
    "head(fauna)\n"
   ]
  },
  {
   "cell_type": "code",
   "execution_count": 3,
   "metadata": {
    "vscode": {
     "languageId": "r"
    }
   },
   "outputs": [
    {
     "data": {
      "text/html": [
       "<style>\n",
       ".list-inline {list-style: none; margin:0; padding: 0}\n",
       ".list-inline>li {display: inline-block}\n",
       ".list-inline>li:not(:last-child)::after {content: \"\\00b7\"; padding: 0 .5ex}\n",
       "</style>\n",
       "<ol class=list-inline><li>27</li><li>200</li></ol>\n"
      ],
      "text/latex": [
       "\\begin{enumerate*}\n",
       "\\item 27\n",
       "\\item 200\n",
       "\\end{enumerate*}\n"
      ],
      "text/markdown": [
       "1. 27\n",
       "2. 200\n",
       "\n",
       "\n"
      ],
      "text/plain": [
       "[1]  27 200"
      ]
     },
     "metadata": {},
     "output_type": "display_data"
    }
   ],
   "source": [
    "dim(fauna)\n"
   ]
  },
  {
   "cell_type": "code",
   "execution_count": 4,
   "metadata": {
    "vscode": {
     "languageId": "r"
    }
   },
   "outputs": [
    {
     "data": {
      "text/html": [
       "0"
      ],
      "text/latex": [
       "0"
      ],
      "text/markdown": [
       "0"
      ],
      "text/plain": [
       "[1] 0"
      ]
     },
     "metadata": {},
     "output_type": "display_data"
    }
   ],
   "source": [
    "sum(is.na(fauna))\n"
   ]
  },
  {
   "cell_type": "code",
   "execution_count": 5,
   "metadata": {
    "vscode": {
     "languageId": "r"
    }
   },
   "outputs": [
    {
     "data": {
      "text/html": [
       "<table class=\"dataframe\">\n",
       "<caption>A data.frame: 6 x 18</caption>\n",
       "<thead>\n",
       "\t<tr><th></th><th scope=col>SITE</th><th scope=col>Abstraction</th><th scope=col>Regulation</th><th scope=col>Grazing...proportion.of.total.catchment.area.</th><th scope=col>fines..proportion.substrata.</th><th scope=col>Temperature..oC.</th><th scope=col>Conductivity..uS.cm.</th><th scope=col>average.turbidity..NTU.</th><th scope=col>pH</th><th scope=col>Alkalinity.Total..mg.CaCO3.L.</th><th scope=col>Nitrate.Nitrite..mg.N.L.</th><th scope=col>DRP..mg.P.L.</th><th scope=col>N.total..mg.N.L.</th><th scope=col>P.Total..mg.P.L.</th><th scope=col>Average...shading</th><th scope=col>Average.algae.cover....</th><th scope=col>Chl.a..mg.m2.</th><th scope=col>GrazingRank</th></tr>\n",
       "\t<tr><th></th><th scope=col>&lt;chr&gt;</th><th scope=col>&lt;dbl&gt;</th><th scope=col>&lt;dbl&gt;</th><th scope=col>&lt;dbl&gt;</th><th scope=col>&lt;dbl&gt;</th><th scope=col>&lt;dbl&gt;</th><th scope=col>&lt;dbl&gt;</th><th scope=col>&lt;dbl&gt;</th><th scope=col>&lt;dbl&gt;</th><th scope=col>&lt;int&gt;</th><th scope=col>&lt;dbl&gt;</th><th scope=col>&lt;dbl&gt;</th><th scope=col>&lt;dbl&gt;</th><th scope=col>&lt;dbl&gt;</th><th scope=col>&lt;dbl&gt;</th><th scope=col>&lt;dbl&gt;</th><th scope=col>&lt;dbl&gt;</th><th scope=col>&lt;chr&gt;</th></tr>\n",
       "</thead>\n",
       "<tbody>\n",
       "\t<tr><th scope=row>1</th><td>Ansons river   </td><td>0.00000</td><td>0.00000</td><td>0.000000000</td><td>0.20</td><td>18.0</td><td>125.0</td><td>3.05</td><td>7.0</td><td> 8</td><td>0.006</td><td>0.004</td><td>0.34</td><td>0.017</td><td>80.50</td><td> 4.000000</td><td> 8.7104</td><td>Low   </td></tr>\n",
       "\t<tr><th scope=row>2</th><td>Black river    </td><td>0.00047</td><td>0.00414</td><td>0.046624793</td><td>0.00</td><td>11.2</td><td> 99.0</td><td>2.50</td><td>5.1</td><td> 2</td><td>0.004</td><td>0.004</td><td>0.58</td><td>0.015</td><td>81.75</td><td> 8.266667</td><td>34.8416</td><td>Low   </td></tr>\n",
       "\t<tr><th scope=row>3</th><td>Blackwell river</td><td>0.00248</td><td>0.00248</td><td>0.017061051</td><td>0.10</td><td>13.7</td><td> 96.1</td><td>  NA</td><td>7.4</td><td>24</td><td>0.030</td><td>0.004</td><td>0.13</td><td>0.013</td><td>90.00</td><td> 0.267000</td><td> 3.8100</td><td>Low   </td></tr>\n",
       "\t<tr><th scope=row>4</th><td>Boobyalla river</td><td>0.01440</td><td>0.01911</td><td>0.260394952</td><td>0.05</td><td>17.7</td><td>173.0</td><td>5.58</td><td>6.8</td><td>18</td><td>0.076</td><td>0.041</td><td>0.67</td><td>0.216</td><td>79.50</td><td>44.066667</td><td>26.1312</td><td>Medium</td></tr>\n",
       "\t<tr><th scope=row>5</th><td>Dans rivulet   </td><td>0.00024</td><td>0.00024</td><td>0.005096963</td><td>0.00</td><td>13.0</td><td> 48.0</td><td>0.76</td><td>9.1</td><td> 8</td><td>0.089</td><td>0.002</td><td>0.15</td><td>0.009</td><td>51.50</td><td> 0.600000</td><td> 3.5386</td><td>Low   </td></tr>\n",
       "\t<tr><th scope=row>6</th><td>Deep creek     </td><td>0.00994</td><td>0.00994</td><td>0.592333607</td><td>0.10</td><td>18.9</td><td>164.0</td><td>0.16</td><td>7.1</td><td>40</td><td>0.233</td><td>0.006</td><td>0.63</td><td>0.032</td><td>54.25</td><td> 3.533333</td><td> 7.3494</td><td>Severe</td></tr>\n",
       "</tbody>\n",
       "</table>\n"
      ],
      "text/latex": [
       "A data.frame: 6 x 18\n",
       "\\begin{tabular}{r|llllllllllllllllll}\n",
       "  & SITE & Abstraction & Regulation & Grazing...proportion.of.total.catchment.area. & fines..proportion.substrata. & Temperature..oC. & Conductivity..uS.cm. & average.turbidity..NTU. & pH & Alkalinity.Total..mg.CaCO3.L. & Nitrate.Nitrite..mg.N.L. & DRP..mg.P.L. & N.total..mg.N.L. & P.Total..mg.P.L. & Average...shading & Average.algae.cover.... & Chl.a..mg.m2. & GrazingRank\\\\\n",
       "  & <chr> & <dbl> & <dbl> & <dbl> & <dbl> & <dbl> & <dbl> & <dbl> & <dbl> & <int> & <dbl> & <dbl> & <dbl> & <dbl> & <dbl> & <dbl> & <dbl> & <chr>\\\\\n",
       "\\hline\n",
       "\t1 & Ansons river    & 0.00000 & 0.00000 & 0.000000000 & 0.20 & 18.0 & 125.0 & 3.05 & 7.0 &  8 & 0.006 & 0.004 & 0.34 & 0.017 & 80.50 &  4.000000 &  8.7104 & Low   \\\\\n",
       "\t2 & Black river     & 0.00047 & 0.00414 & 0.046624793 & 0.00 & 11.2 &  99.0 & 2.50 & 5.1 &  2 & 0.004 & 0.004 & 0.58 & 0.015 & 81.75 &  8.266667 & 34.8416 & Low   \\\\\n",
       "\t3 & Blackwell river & 0.00248 & 0.00248 & 0.017061051 & 0.10 & 13.7 &  96.1 &   NA & 7.4 & 24 & 0.030 & 0.004 & 0.13 & 0.013 & 90.00 &  0.267000 &  3.8100 & Low   \\\\\n",
       "\t4 & Boobyalla river & 0.01440 & 0.01911 & 0.260394952 & 0.05 & 17.7 & 173.0 & 5.58 & 6.8 & 18 & 0.076 & 0.041 & 0.67 & 0.216 & 79.50 & 44.066667 & 26.1312 & Medium\\\\\n",
       "\t5 & Dans rivulet    & 0.00024 & 0.00024 & 0.005096963 & 0.00 & 13.0 &  48.0 & 0.76 & 9.1 &  8 & 0.089 & 0.002 & 0.15 & 0.009 & 51.50 &  0.600000 &  3.5386 & Low   \\\\\n",
       "\t6 & Deep creek      & 0.00994 & 0.00994 & 0.592333607 & 0.10 & 18.9 & 164.0 & 0.16 & 7.1 & 40 & 0.233 & 0.006 & 0.63 & 0.032 & 54.25 &  3.533333 &  7.3494 & Severe\\\\\n",
       "\\end{tabular}\n"
      ],
      "text/markdown": [
       "\n",
       "A data.frame: 6 x 18\n",
       "\n",
       "| <!--/--> | SITE &lt;chr&gt; | Abstraction &lt;dbl&gt; | Regulation &lt;dbl&gt; | Grazing...proportion.of.total.catchment.area. &lt;dbl&gt; | fines..proportion.substrata. &lt;dbl&gt; | Temperature..oC. &lt;dbl&gt; | Conductivity..uS.cm. &lt;dbl&gt; | average.turbidity..NTU. &lt;dbl&gt; | pH &lt;dbl&gt; | Alkalinity.Total..mg.CaCO3.L. &lt;int&gt; | Nitrate.Nitrite..mg.N.L. &lt;dbl&gt; | DRP..mg.P.L. &lt;dbl&gt; | N.total..mg.N.L. &lt;dbl&gt; | P.Total..mg.P.L. &lt;dbl&gt; | Average...shading &lt;dbl&gt; | Average.algae.cover.... &lt;dbl&gt; | Chl.a..mg.m2. &lt;dbl&gt; | GrazingRank &lt;chr&gt; |\n",
       "|---|---|---|---|---|---|---|---|---|---|---|---|---|---|---|---|---|---|---|\n",
       "| 1 | Ansons river    | 0.00000 | 0.00000 | 0.000000000 | 0.20 | 18.0 | 125.0 | 3.05 | 7.0 |  8 | 0.006 | 0.004 | 0.34 | 0.017 | 80.50 |  4.000000 |  8.7104 | Low    |\n",
       "| 2 | Black river     | 0.00047 | 0.00414 | 0.046624793 | 0.00 | 11.2 |  99.0 | 2.50 | 5.1 |  2 | 0.004 | 0.004 | 0.58 | 0.015 | 81.75 |  8.266667 | 34.8416 | Low    |\n",
       "| 3 | Blackwell river | 0.00248 | 0.00248 | 0.017061051 | 0.10 | 13.7 |  96.1 |   NA | 7.4 | 24 | 0.030 | 0.004 | 0.13 | 0.013 | 90.00 |  0.267000 |  3.8100 | Low    |\n",
       "| 4 | Boobyalla river | 0.01440 | 0.01911 | 0.260394952 | 0.05 | 17.7 | 173.0 | 5.58 | 6.8 | 18 | 0.076 | 0.041 | 0.67 | 0.216 | 79.50 | 44.066667 | 26.1312 | Medium |\n",
       "| 5 | Dans rivulet    | 0.00024 | 0.00024 | 0.005096963 | 0.00 | 13.0 |  48.0 | 0.76 | 9.1 |  8 | 0.089 | 0.002 | 0.15 | 0.009 | 51.50 |  0.600000 |  3.5386 | Low    |\n",
       "| 6 | Deep creek      | 0.00994 | 0.00994 | 0.592333607 | 0.10 | 18.9 | 164.0 | 0.16 | 7.1 | 40 | 0.233 | 0.006 | 0.63 | 0.032 | 54.25 |  3.533333 |  7.3494 | Severe |\n",
       "\n"
      ],
      "text/plain": [
       "  SITE            Abstraction Regulation\n",
       "1 Ansons river    0.00000     0.00000   \n",
       "2 Black river     0.00047     0.00414   \n",
       "3 Blackwell river 0.00248     0.00248   \n",
       "4 Boobyalla river 0.01440     0.01911   \n",
       "5 Dans rivulet    0.00024     0.00024   \n",
       "6 Deep creek      0.00994     0.00994   \n",
       "  Grazing...proportion.of.total.catchment.area. fines..proportion.substrata.\n",
       "1 0.000000000                                   0.20                        \n",
       "2 0.046624793                                   0.00                        \n",
       "3 0.017061051                                   0.10                        \n",
       "4 0.260394952                                   0.05                        \n",
       "5 0.005096963                                   0.00                        \n",
       "6 0.592333607                                   0.10                        \n",
       "  Temperature..oC. Conductivity..uS.cm. average.turbidity..NTU. pH \n",
       "1 18.0             125.0                3.05                    7.0\n",
       "2 11.2              99.0                2.50                    5.1\n",
       "3 13.7              96.1                  NA                    7.4\n",
       "4 17.7             173.0                5.58                    6.8\n",
       "5 13.0              48.0                0.76                    9.1\n",
       "6 18.9             164.0                0.16                    7.1\n",
       "  Alkalinity.Total..mg.CaCO3.L. Nitrate.Nitrite..mg.N.L. DRP..mg.P.L.\n",
       "1  8                            0.006                    0.004       \n",
       "2  2                            0.004                    0.004       \n",
       "3 24                            0.030                    0.004       \n",
       "4 18                            0.076                    0.041       \n",
       "5  8                            0.089                    0.002       \n",
       "6 40                            0.233                    0.006       \n",
       "  N.total..mg.N.L. P.Total..mg.P.L. Average...shading Average.algae.cover....\n",
       "1 0.34             0.017            80.50              4.000000              \n",
       "2 0.58             0.015            81.75              8.266667              \n",
       "3 0.13             0.013            90.00              0.267000              \n",
       "4 0.67             0.216            79.50             44.066667              \n",
       "5 0.15             0.009            51.50              0.600000              \n",
       "6 0.63             0.032            54.25              3.533333              \n",
       "  Chl.a..mg.m2. GrazingRank\n",
       "1  8.7104       Low        \n",
       "2 34.8416       Low        \n",
       "3  3.8100       Low        \n",
       "4 26.1312       Medium     \n",
       "5  3.5386       Low        \n",
       "6  7.3494       Severe     "
      ]
     },
     "metadata": {},
     "output_type": "display_data"
    }
   ],
   "source": [
    "env <- read.delim(\"env.tsv\")\n",
    "\n",
    "# ensuring the same order of sites in env dataframe\n",
    "env <- env[order(env$SITE), ]\n",
    "head(env)\n"
   ]
  },
  {
   "cell_type": "code",
   "execution_count": 6,
   "metadata": {
    "vscode": {
     "languageId": "r"
    }
   },
   "outputs": [
    {
     "data": {
      "text/html": [
       "<style>\n",
       ".list-inline {list-style: none; margin:0; padding: 0}\n",
       ".list-inline>li {display: inline-block}\n",
       ".list-inline>li:not(:last-child)::after {content: \"\\00b7\"; padding: 0 .5ex}\n",
       "</style>\n",
       "<ol class=list-inline><li>27</li><li>18</li></ol>\n"
      ],
      "text/latex": [
       "\\begin{enumerate*}\n",
       "\\item 27\n",
       "\\item 18\n",
       "\\end{enumerate*}\n"
      ],
      "text/markdown": [
       "1. 27\n",
       "2. 18\n",
       "\n",
       "\n"
      ],
      "text/plain": [
       "[1] 27 18"
      ]
     },
     "metadata": {},
     "output_type": "display_data"
    }
   ],
   "source": [
    "dim(env)\n"
   ]
  },
  {
   "cell_type": "code",
   "execution_count": 7,
   "metadata": {
    "vscode": {
     "languageId": "r"
    }
   },
   "outputs": [
    {
     "data": {
      "text/html": [
       "15"
      ],
      "text/latex": [
       "15"
      ],
      "text/markdown": [
       "15"
      ],
      "text/plain": [
       "[1] 15"
      ]
     },
     "metadata": {},
     "output_type": "display_data"
    }
   ],
   "source": [
    "sum(is.na(env))\n"
   ]
  },
  {
   "cell_type": "code",
   "execution_count": 8,
   "metadata": {
    "vscode": {
     "languageId": "r"
    }
   },
   "outputs": [
    {
     "data": {
      "text/html": [
       "0"
      ],
      "text/latex": [
       "0"
      ],
      "text/markdown": [
       "0"
      ],
      "text/plain": [
       "[1] 0"
      ]
     },
     "metadata": {},
     "output_type": "display_data"
    }
   ],
   "source": [
    "# substituting nearest neighbours' values instead of nans\n",
    "env <- kNN(env, k = 3)\n",
    "env <- subset(env, select = -grep(\"_imp$\", names(env)))\n",
    "sum(is.na(env))\n"
   ]
  },
  {
   "cell_type": "code",
   "execution_count": 9,
   "metadata": {
    "vscode": {
     "languageId": "r"
    }
   },
   "outputs": [
    {
     "data": {
      "text/html": [
       "<table class=\"dataframe\">\n",
       "<caption>A data.frame: 18 x 2</caption>\n",
       "<thead>\n",
       "\t<tr><th></th><th scope=col>Name</th><th scope=col>Type</th></tr>\n",
       "\t<tr><th></th><th scope=col>&lt;chr&gt;</th><th scope=col>&lt;chr&gt;</th></tr>\n",
       "</thead>\n",
       "<tbody>\n",
       "\t<tr><th scope=row>SITE</th><td>SITE                                         </td><td>character</td></tr>\n",
       "\t<tr><th scope=row>Abstraction</th><td>Abstraction                                  </td><td>numeric  </td></tr>\n",
       "\t<tr><th scope=row>Regulation</th><td>Regulation                                   </td><td>numeric  </td></tr>\n",
       "\t<tr><th scope=row>Grazing...proportion.of.total.catchment.area.</th><td>Grazing...proportion.of.total.catchment.area.</td><td>numeric  </td></tr>\n",
       "\t<tr><th scope=row>fines..proportion.substrata.</th><td>fines..proportion.substrata.                 </td><td>numeric  </td></tr>\n",
       "\t<tr><th scope=row>Temperature..oC.</th><td>Temperature..oC.                             </td><td>numeric  </td></tr>\n",
       "\t<tr><th scope=row>Conductivity..uS.cm.</th><td>Conductivity..uS.cm.                         </td><td>numeric  </td></tr>\n",
       "\t<tr><th scope=row>average.turbidity..NTU.</th><td>average.turbidity..NTU.                      </td><td>numeric  </td></tr>\n",
       "\t<tr><th scope=row>pH</th><td>pH                                           </td><td>numeric  </td></tr>\n",
       "\t<tr><th scope=row>Alkalinity.Total..mg.CaCO3.L.</th><td>Alkalinity.Total..mg.CaCO3.L.                </td><td>integer  </td></tr>\n",
       "\t<tr><th scope=row>Nitrate.Nitrite..mg.N.L.</th><td>Nitrate.Nitrite..mg.N.L.                     </td><td>numeric  </td></tr>\n",
       "\t<tr><th scope=row>DRP..mg.P.L.</th><td>DRP..mg.P.L.                                 </td><td>numeric  </td></tr>\n",
       "\t<tr><th scope=row>N.total..mg.N.L.</th><td>N.total..mg.N.L.                             </td><td>numeric  </td></tr>\n",
       "\t<tr><th scope=row>P.Total..mg.P.L.</th><td>P.Total..mg.P.L.                             </td><td>numeric  </td></tr>\n",
       "\t<tr><th scope=row>Average...shading</th><td>Average...shading                            </td><td>numeric  </td></tr>\n",
       "\t<tr><th scope=row>Average.algae.cover....</th><td>Average.algae.cover....                      </td><td>numeric  </td></tr>\n",
       "\t<tr><th scope=row>Chl.a..mg.m2.</th><td>Chl.a..mg.m2.                                </td><td>numeric  </td></tr>\n",
       "\t<tr><th scope=row>GrazingRank</th><td>GrazingRank                                  </td><td>character</td></tr>\n",
       "</tbody>\n",
       "</table>\n"
      ],
      "text/latex": [
       "A data.frame: 18 x 2\n",
       "\\begin{tabular}{r|ll}\n",
       "  & Name & Type\\\\\n",
       "  & <chr> & <chr>\\\\\n",
       "\\hline\n",
       "\tSITE & SITE                                          & character\\\\\n",
       "\tAbstraction & Abstraction                                   & numeric  \\\\\n",
       "\tRegulation & Regulation                                    & numeric  \\\\\n",
       "\tGrazing...proportion.of.total.catchment.area. & Grazing...proportion.of.total.catchment.area. & numeric  \\\\\n",
       "\tfines..proportion.substrata. & fines..proportion.substrata.                  & numeric  \\\\\n",
       "\tTemperature..oC. & Temperature..oC.                              & numeric  \\\\\n",
       "\tConductivity..uS.cm. & Conductivity..uS.cm.                          & numeric  \\\\\n",
       "\taverage.turbidity..NTU. & average.turbidity..NTU.                       & numeric  \\\\\n",
       "\tpH & pH                                            & numeric  \\\\\n",
       "\tAlkalinity.Total..mg.CaCO3.L. & Alkalinity.Total..mg.CaCO3.L.                 & integer  \\\\\n",
       "\tNitrate.Nitrite..mg.N.L. & Nitrate.Nitrite..mg.N.L.                      & numeric  \\\\\n",
       "\tDRP..mg.P.L. & DRP..mg.P.L.                                  & numeric  \\\\\n",
       "\tN.total..mg.N.L. & N.total..mg.N.L.                              & numeric  \\\\\n",
       "\tP.Total..mg.P.L. & P.Total..mg.P.L.                              & numeric  \\\\\n",
       "\tAverage...shading & Average...shading                             & numeric  \\\\\n",
       "\tAverage.algae.cover.... & Average.algae.cover....                       & numeric  \\\\\n",
       "\tChl.a..mg.m2. & Chl.a..mg.m2.                                 & numeric  \\\\\n",
       "\tGrazingRank & GrazingRank                                   & character\\\\\n",
       "\\end{tabular}\n"
      ],
      "text/markdown": [
       "\n",
       "A data.frame: 18 x 2\n",
       "\n",
       "| <!--/--> | Name &lt;chr&gt; | Type &lt;chr&gt; |\n",
       "|---|---|---|\n",
       "| SITE | SITE                                          | character |\n",
       "| Abstraction | Abstraction                                   | numeric   |\n",
       "| Regulation | Regulation                                    | numeric   |\n",
       "| Grazing...proportion.of.total.catchment.area. | Grazing...proportion.of.total.catchment.area. | numeric   |\n",
       "| fines..proportion.substrata. | fines..proportion.substrata.                  | numeric   |\n",
       "| Temperature..oC. | Temperature..oC.                              | numeric   |\n",
       "| Conductivity..uS.cm. | Conductivity..uS.cm.                          | numeric   |\n",
       "| average.turbidity..NTU. | average.turbidity..NTU.                       | numeric   |\n",
       "| pH | pH                                            | numeric   |\n",
       "| Alkalinity.Total..mg.CaCO3.L. | Alkalinity.Total..mg.CaCO3.L.                 | integer   |\n",
       "| Nitrate.Nitrite..mg.N.L. | Nitrate.Nitrite..mg.N.L.                      | numeric   |\n",
       "| DRP..mg.P.L. | DRP..mg.P.L.                                  | numeric   |\n",
       "| N.total..mg.N.L. | N.total..mg.N.L.                              | numeric   |\n",
       "| P.Total..mg.P.L. | P.Total..mg.P.L.                              | numeric   |\n",
       "| Average...shading | Average...shading                             | numeric   |\n",
       "| Average.algae.cover.... | Average.algae.cover....                       | numeric   |\n",
       "| Chl.a..mg.m2. | Chl.a..mg.m2.                                 | numeric   |\n",
       "| GrazingRank | GrazingRank                                   | character |\n",
       "\n"
      ],
      "text/plain": [
       "                                              Name                                         \n",
       "SITE                                          SITE                                         \n",
       "Abstraction                                   Abstraction                                  \n",
       "Regulation                                    Regulation                                   \n",
       "Grazing...proportion.of.total.catchment.area. Grazing...proportion.of.total.catchment.area.\n",
       "fines..proportion.substrata.                  fines..proportion.substrata.                 \n",
       "Temperature..oC.                              Temperature..oC.                             \n",
       "Conductivity..uS.cm.                          Conductivity..uS.cm.                         \n",
       "average.turbidity..NTU.                       average.turbidity..NTU.                      \n",
       "pH                                            pH                                           \n",
       "Alkalinity.Total..mg.CaCO3.L.                 Alkalinity.Total..mg.CaCO3.L.                \n",
       "Nitrate.Nitrite..mg.N.L.                      Nitrate.Nitrite..mg.N.L.                     \n",
       "DRP..mg.P.L.                                  DRP..mg.P.L.                                 \n",
       "N.total..mg.N.L.                              N.total..mg.N.L.                             \n",
       "P.Total..mg.P.L.                              P.Total..mg.P.L.                             \n",
       "Average...shading                             Average...shading                            \n",
       "Average.algae.cover....                       Average.algae.cover....                      \n",
       "Chl.a..mg.m2.                                 Chl.a..mg.m2.                                \n",
       "GrazingRank                                   GrazingRank                                  \n",
       "                                              Type     \n",
       "SITE                                          character\n",
       "Abstraction                                   numeric  \n",
       "Regulation                                    numeric  \n",
       "Grazing...proportion.of.total.catchment.area. numeric  \n",
       "fines..proportion.substrata.                  numeric  \n",
       "Temperature..oC.                              numeric  \n",
       "Conductivity..uS.cm.                          numeric  \n",
       "average.turbidity..NTU.                       numeric  \n",
       "pH                                            numeric  \n",
       "Alkalinity.Total..mg.CaCO3.L.                 integer  \n",
       "Nitrate.Nitrite..mg.N.L.                      numeric  \n",
       "DRP..mg.P.L.                                  numeric  \n",
       "N.total..mg.N.L.                              numeric  \n",
       "P.Total..mg.P.L.                              numeric  \n",
       "Average...shading                             numeric  \n",
       "Average.algae.cover....                       numeric  \n",
       "Chl.a..mg.m2.                                 numeric  \n",
       "GrazingRank                                   character"
      ]
     },
     "metadata": {},
     "output_type": "display_data"
    }
   ],
   "source": [
    "# Checling that the types of env are OK.\n",
    "names_and_types <- sapply(env, function(x) paste(class(x), collapse = \",\"))\n",
    "\n",
    "names_and_types_df <- data.frame(\n",
    "    Name = names(env),\n",
    "    Type = names_and_types\n",
    ")\n",
    "names_and_types_df\n"
   ]
  },
  {
   "cell_type": "code",
   "execution_count": 10,
   "metadata": {
    "vscode": {
     "languageId": "r"
    }
   },
   "outputs": [
    {
     "data": {
      "text/html": [
       "<table class=\"dataframe\">\n",
       "<caption>A data.frame: 6 x 3</caption>\n",
       "<thead>\n",
       "\t<tr><th></th><th scope=col>SITE</th><th scope=col>lon</th><th scope=col>lat</th></tr>\n",
       "\t<tr><th></th><th scope=col>&lt;chr&gt;</th><th scope=col>&lt;dbl&gt;</th><th scope=col>&lt;dbl&gt;</th></tr>\n",
       "</thead>\n",
       "<tbody>\n",
       "\t<tr><th scope=row>1</th><td>Ansons river   </td><td>148.1443</td><td>-41.17994</td></tr>\n",
       "\t<tr><th scope=row>2</th><td>Black river    </td><td>145.4000</td><td>-40.99786</td></tr>\n",
       "\t<tr><th scope=row>3</th><td>Blackwell river</td><td>145.5412</td><td>-41.21813</td></tr>\n",
       "\t<tr><th scope=row>4</th><td>Boobyalla river</td><td>147.8138</td><td>-40.97754</td></tr>\n",
       "\t<tr><th scope=row>5</th><td>Dans rivulet   </td><td>147.8701</td><td>-41.42824</td></tr>\n",
       "\t<tr><th scope=row>6</th><td>Deep creek     </td><td>145.2135</td><td>-40.89625</td></tr>\n",
       "</tbody>\n",
       "</table>\n"
      ],
      "text/latex": [
       "A data.frame: 6 x 3\n",
       "\\begin{tabular}{r|lll}\n",
       "  & SITE & lon & lat\\\\\n",
       "  & <chr> & <dbl> & <dbl>\\\\\n",
       "\\hline\n",
       "\t1 & Ansons river    & 148.1443 & -41.17994\\\\\n",
       "\t2 & Black river     & 145.4000 & -40.99786\\\\\n",
       "\t3 & Blackwell river & 145.5412 & -41.21813\\\\\n",
       "\t4 & Boobyalla river & 147.8138 & -40.97754\\\\\n",
       "\t5 & Dans rivulet    & 147.8701 & -41.42824\\\\\n",
       "\t6 & Deep creek      & 145.2135 & -40.89625\\\\\n",
       "\\end{tabular}\n"
      ],
      "text/markdown": [
       "\n",
       "A data.frame: 6 x 3\n",
       "\n",
       "| <!--/--> | SITE &lt;chr&gt; | lon &lt;dbl&gt; | lat &lt;dbl&gt; |\n",
       "|---|---|---|---|\n",
       "| 1 | Ansons river    | 148.1443 | -41.17994 |\n",
       "| 2 | Black river     | 145.4000 | -40.99786 |\n",
       "| 3 | Blackwell river | 145.5412 | -41.21813 |\n",
       "| 4 | Boobyalla river | 147.8138 | -40.97754 |\n",
       "| 5 | Dans rivulet    | 147.8701 | -41.42824 |\n",
       "| 6 | Deep creek      | 145.2135 | -40.89625 |\n",
       "\n"
      ],
      "text/plain": [
       "  SITE            lon      lat      \n",
       "1 Ansons river    148.1443 -41.17994\n",
       "2 Black river     145.4000 -40.99786\n",
       "3 Blackwell river 145.5412 -41.21813\n",
       "4 Boobyalla river 147.8138 -40.97754\n",
       "5 Dans rivulet    147.8701 -41.42824\n",
       "6 Deep creek      145.2135 -40.89625"
      ]
     },
     "metadata": {},
     "output_type": "display_data"
    }
   ],
   "source": [
    "spatial <- read.delim(\"coord.tsv\")\n",
    "spatial <- spatial %>% select(SITE, lon, lat)\n",
    "\n",
    "# ensuring the same order of sites in spatial dataframe\n",
    "spatial <- spatial[order(spatial$SITE), ]\n",
    "head(spatial)\n"
   ]
  },
  {
   "cell_type": "code",
   "execution_count": 11,
   "metadata": {
    "vscode": {
     "languageId": "r"
    }
   },
   "outputs": [],
   "source": [
    "# ensuring the same order of sites in fauna, spatial and env dataframes\n",
    "stopifnot(all(fauna$SITE == env$SITE))\n",
    "stopifnot(all(spatial$SITE == env$SITE))\n"
   ]
  },
  {
   "cell_type": "markdown",
   "metadata": {},
   "source": [
    "## CCA"
   ]
  },
  {
   "cell_type": "code",
   "execution_count": 12,
   "metadata": {
    "vscode": {
     "languageId": "r"
    }
   },
   "outputs": [],
   "source": [
    "# leaving only numerical values for cca\n",
    "env_num <- env %>% select(where(is.numeric))\n",
    "fauna_num <- fauna %>% select(where(is.numeric))\n"
   ]
  },
  {
   "cell_type": "code",
   "execution_count": 13,
   "metadata": {
    "vscode": {
     "languageId": "r"
    }
   },
   "outputs": [],
   "source": [
    "# standardizing\n",
    "env_num <- env_num %>% decostand(\"range\")\n",
    "fauna_num <- decostand(fauna_num, \"log\")\n"
   ]
  },
  {
   "cell_type": "code",
   "execution_count": 14,
   "metadata": {
    "vscode": {
     "languageId": "r"
    }
   },
   "outputs": [
    {
     "data": {
      "text/html": [
       "'Abstraction + Regulation + Grazing...proportion.of.total.catchment.area. + fines..proportion.substrata. + Temperature..oC. + Conductivity..uS.cm. + average.turbidity..NTU. + pH + Alkalinity.Total..mg.CaCO3.L. + Nitrate.Nitrite..mg.N.L. + DRP..mg.P.L. + N.total..mg.N.L. + P.Total..mg.P.L. + Average...shading + Average.algae.cover.... + Chl.a..mg.m2.'"
      ],
      "text/latex": [
       "'Abstraction + Regulation + Grazing...proportion.of.total.catchment.area. + fines..proportion.substrata. + Temperature..oC. + Conductivity..uS.cm. + average.turbidity..NTU. + pH + Alkalinity.Total..mg.CaCO3.L. + Nitrate.Nitrite..mg.N.L. + DRP..mg.P.L. + N.total..mg.N.L. + P.Total..mg.P.L. + Average...shading + Average.algae.cover.... + Chl.a..mg.m2.'"
      ],
      "text/markdown": [
       "'Abstraction + Regulation + Grazing...proportion.of.total.catchment.area. + fines..proportion.substrata. + Temperature..oC. + Conductivity..uS.cm. + average.turbidity..NTU. + pH + Alkalinity.Total..mg.CaCO3.L. + Nitrate.Nitrite..mg.N.L. + DRP..mg.P.L. + N.total..mg.N.L. + P.Total..mg.P.L. + Average...shading + Average.algae.cover.... + Chl.a..mg.m2.'"
      ],
      "text/plain": [
       "[1] \"Abstraction + Regulation + Grazing...proportion.of.total.catchment.area. + fines..proportion.substrata. + Temperature..oC. + Conductivity..uS.cm. + average.turbidity..NTU. + pH + Alkalinity.Total..mg.CaCO3.L. + Nitrate.Nitrite..mg.N.L. + DRP..mg.P.L. + N.total..mg.N.L. + P.Total..mg.P.L. + Average...shading + Average.algae.cover.... + Chl.a..mg.m2.\""
      ]
     },
     "metadata": {},
     "output_type": "display_data"
    }
   ],
   "source": [
    "# To obtain string for model formula from names of numerical external factors\n",
    "paste(names(env_num), collapse = \" + \")\n"
   ]
  },
  {
   "cell_type": "code",
   "execution_count": 15,
   "metadata": {
    "vscode": {
     "languageId": "r"
    }
   },
   "outputs": [],
   "source": [
    "graze_cca <- cca(\n",
    "    fauna_num ~ Abstraction + Grazing...proportion.of.total.catchment.area. + fines..proportion.substrata. + Temperature..oC.\n",
    "        + Conductivity..uS.cm. + average.turbidity..NTU. + pH + Nitrate.Nitrite..mg.N.L. + P.Total..mg.P.L. + Average...shading + Chl.a..mg.m2.,\n",
    "    data = env_num\n",
    ")\n"
   ]
  },
  {
   "cell_type": "code",
   "execution_count": 16,
   "metadata": {
    "vscode": {
     "languageId": "r"
    }
   },
   "outputs": [
    {
     "name": "stdout",
     "output_type": "stream",
     "text": [
      "\n",
      "Start: fauna_num ~ Abstraction + Grazing...proportion.of.total.catchment.area. +      fines..proportion.substrata. + Temperature..oC. + Conductivity..uS.cm. +      average.turbidity..NTU. + pH + Nitrate.Nitrite..mg.N.L. +      P.Total..mg.P.L. + Average...shading + Chl.a..mg.m2. \n",
      "\n"
     ]
    }
   ],
   "source": [
    "# model selection to choose better ordinal logistic regression model\n",
    "finalmodel <- ordistep(graze_cca, scope = formula(graze_cca))\n"
   ]
  },
  {
   "cell_type": "code",
   "execution_count": 17,
   "metadata": {
    "vscode": {
     "languageId": "r"
    }
   },
   "outputs": [
    {
     "data": {
      "text/plain": [
       "\n",
       "Call:\n",
       "cca(formula = fauna_num ~ Abstraction + Grazing...proportion.of.total.catchment.area. +      fines..proportion.substrata. + Temperature..oC. + Conductivity..uS.cm. +      average.turbidity..NTU. + pH + Nitrate.Nitrite..mg.N.L. +      P.Total..mg.P.L. + Average...shading + Chl.a..mg.m2., data = env_num) \n",
       "\n",
       "Partitioning of scaled Chi-square:\n",
       "              Inertia Proportion\n",
       "Total           2.571     1.0000\n",
       "Constrained     1.230     0.4783\n",
       "Unconstrained   1.341     0.5217\n",
       "\n",
       "Eigenvalues, and their contribution to the scaled Chi-square \n",
       "\n",
       "Importance of components:\n",
       "                        CCA1   CCA2    CCA3    CCA4    CCA5    CCA6    CCA7\n",
       "Eigenvalue            0.2876 0.1594 0.13631 0.11172 0.10069 0.08999 0.08442\n",
       "Proportion Explained  0.1119 0.0620 0.05303 0.04346 0.03917 0.03501 0.03284\n",
       "Cumulative Proportion 0.1119 0.1739 0.22692 0.27038 0.30955 0.34455 0.37739\n",
       "                         CCA8    CCA9   CCA10   CCA11     CA1     CA2     CA3\n",
       "Eigenvalue            0.07467 0.06787 0.06420 0.05262 0.19501 0.16545 0.15151\n",
       "Proportion Explained  0.02905 0.02640 0.02497 0.02047 0.07586 0.06436 0.05894\n",
       "Cumulative Proportion 0.40644 0.43284 0.45782 0.47829 0.55415 0.61851 0.67744\n",
       "                          CA4     CA5     CA6     CA7     CA8     CA9    CA10\n",
       "Eigenvalue            0.12367 0.09936 0.08954 0.08257 0.08135 0.06573 0.06387\n",
       "Proportion Explained  0.04811 0.03865 0.03483 0.03212 0.03164 0.02557 0.02484\n",
       "Cumulative Proportion 0.72555 0.76420 0.79904 0.83116 0.86280 0.88837 0.91322\n",
       "                         CA11    CA12    CA13    CA14    CA15\n",
       "Eigenvalue            0.05967 0.05122 0.04785 0.03255 0.03179\n",
       "Proportion Explained  0.02321 0.01993 0.01861 0.01266 0.01237\n",
       "Cumulative Proportion 0.93643 0.95636 0.97497 0.98763 1.00000\n",
       "\n",
       "Accumulated constrained eigenvalues\n",
       "Importance of components:\n",
       "                        CCA1   CCA2   CCA3    CCA4   CCA5    CCA6    CCA7\n",
       "Eigenvalue            0.2876 0.1594 0.1363 0.11172 0.1007 0.08999 0.08442\n",
       "Proportion Explained  0.2339 0.1296 0.1109 0.09087 0.0819 0.07319 0.06867\n",
       "Cumulative Proportion 0.2339 0.3636 0.4744 0.56530 0.6472 0.72039 0.78906\n",
       "                         CCA8    CCA9   CCA10   CCA11\n",
       "Eigenvalue            0.07467 0.06787 0.06420 0.05262\n",
       "Proportion Explained  0.06073 0.05520 0.05221 0.04280\n",
       "Cumulative Proportion 0.84979 0.90499 0.95720 1.00000\n",
       "\n",
       "Scaling 2 for species and site scores\n",
       "* Species are scaled proportional to eigenvalues\n",
       "* Sites are unscaled: weighted dispersion equal on all dimensions\n",
       "\n",
       "\n",
       "Species scores\n",
       "\n",
       "                                                    CCA1      CCA2      CCA3\n",
       "Hydrozoa..Hydrozoa                               3.39584 -0.424096  0.013806\n",
       "Turbellaria..Turbellaria                         0.68098  0.084952 -0.237636\n",
       "Nematoda                                         0.21664  0.098761 -0.127585\n",
       "Bivalvia..Sphaeriidae                            0.09136  0.281467  0.249600\n",
       "Gastropoda..Hydrobiidae                          0.03780  0.214519 -0.115617\n",
       "Gastropoda..Physidae                             2.75321 -0.354024 -0.088479\n",
       "Gastropoda..Lymnaeidae                           3.39584 -0.424096  0.013806\n",
       "Gastropoda..Ancylidae                            0.07046 -0.146775  0.578469\n",
       "Gastropoda..Glacidorbidae                       -0.34188  2.576376 -0.712419\n",
       "Oligochaeta..Oligochaeta                         0.18481  0.066539 -0.160365\n",
       "Hirudinea..Hirudinea                             3.39584 -0.424096  0.013806\n",
       "Acarina..Acarina                                 0.31005 -0.138175 -0.100201\n",
       "Amphipoda..Paramelitidae                        -0.15229  0.469490 -0.045611\n",
       "Amphipoda..Ceinidae                              1.17107 -0.393382 -1.055280\n",
       "Amphipoda..Eusiridae                             0.16113  0.872450  2.295862\n",
       "Isopoda..Janiridae                              -0.59190  0.491906 -0.665915\n",
       "Isopoda..Phreatoicidea                          -0.46464  0.001553 -0.214999\n",
       "Ostracoda..Ostracoda                             0.88991 -0.004103 -0.032835\n",
       "Odonata..Telephlebiidae                         -0.48111 -0.201430 -0.744439\n",
       "Hemiptera..Veliidae                             -0.45729 -0.107291  1.155288\n",
       "Hemiptera..Corixidae                             2.33179 -0.511379  0.546122\n",
       "Hemiptera..Gerridae                             -0.25572  0.317271  0.490352\n",
       "Mecoptera..Nannochoristidae                     -0.35391  0.857519  1.200710\n",
       "Diptera..Chironominae                            0.25597  0.058858 -0.038789\n",
       "Diptera..Orthocladiinae                          0.01256  0.111630 -0.167318\n",
       "Diptera..Podonominae                            -0.06747  0.654794  0.217902\n",
       "Diptera..Tanypodinae                             0.13148  0.408573  0.277029\n",
       "Diptera..Diamesinae                             -0.73732 -0.829629 -0.630839\n",
       "Diptera..Aphroteniinae                          -0.49332 -0.963427 -0.689951\n",
       "Diptera..Simuliidae                             -0.09616 -0.025833 -0.117052\n",
       "Diptera..Tipulidae                              -0.11076  0.001917  0.073440\n",
       "Diptera..Athericidae                            -0.37873 -0.035768 -0.104339\n",
       "Diptera..Ceratopogonidae                         0.04116 -0.083976 -0.265259\n",
       "Diptera..Empididae                               0.20050 -0.126161 -0.090257\n",
       "Diptera..Psychodidae                             0.12225  0.303487 -0.872836\n",
       "Diptera..Sciomyzidae                             0.16113  0.872450  2.295862\n",
       "Diptera..Tanyderidae                            -0.49274  0.239123 -0.290053\n",
       "Diptera..Dip..Unid..Pup.                         0.15327  0.067616 -0.181410\n",
       "Coleoptera..ElmidaeA                            -0.26555 -0.099498  0.016293\n",
       "Coleoptera..HydraenidaeA                        -0.64240 -0.462146 -1.002532\n",
       "Coleoptera..DytiscidaeA                          2.61326 -0.265832  0.028350\n",
       "Coleoptera..ElmidaeL                            -0.16502 -0.041460  0.008791\n",
       "Coleoptera..ScirtidaeL                          -0.32000 -0.168269  0.121639\n",
       "Coleoptera..PsephenidaeL                        -0.40791 -0.057653 -0.275615\n",
       "Coleoptera..DytiscidaeL                          1.56277 -0.028999 -0.062251\n",
       "Coleoptera..HydrophilidaeL                       0.16113  0.872450  2.295862\n",
       "Baetidae...Baetid.Genus.1.MV.sp..4              -0.64240 -0.462146 -1.002532\n",
       "Baetidae...Baetid.Genus.2.MV.sp..3              -0.42423 -0.512668  0.073958\n",
       "Baetidae...Baetid.Genus.2.MV.sp..6              -0.44339  0.301246 -0.047994\n",
       "Baetidae...Cloeon.sp.                           -0.31824 -0.926955  1.197729\n",
       "Caenidae...Tasmanocoenis.tillyardi               0.26690  0.064916 -0.006295\n",
       "Caenidae...Tasmanocoenis.tonnoiri                2.83465 -0.829880  0.718675\n",
       "Caenidae...Tasmanocoenis.sp                      0.78185  0.817973 -0.371389\n",
       "Leptophlebiidae...Atalophlebia.albiterminata     1.50093 -0.559264  0.926951\n",
       "Leptophlebiidae...Atalophlebia.sp.AV6            0.08109 -0.635482 -0.566013\n",
       "Leptophlebiidae...Austrophlebioides.sp..AV4     -0.73408 -0.904806  0.279203\n",
       "Leptophlebiidae...Austrophlebioides.sp..AV7      0.02663 -1.282434 -0.348337\n",
       "Leptophlebiidae...Koorrnonga.sp..AV1            -0.09954  0.042203  0.496725\n",
       "Leptophlebiidae...Nousia.sp..AV5.6              -0.05230 -0.106890  0.454504\n",
       "Leptophlebiidae...Nousia.sp..AV7                -0.07023  0.195296  0.095685\n",
       "Leptophlebiidae...Nousia.sp..AV8                -0.35876  0.183721 -0.278971\n",
       "Leptophlebiidae...Nousia.sp..AV9                -0.14682  0.459797  0.067895\n",
       "Leptophlebiidae...Nousia.sp..Unid               -0.64240 -0.462146 -1.002532\n",
       "Leptophlebiidae...Tillyardophlebia.sp.AV2       -0.41894 -0.801369  0.240782\n",
       "Oniscigastridae...Tasmanophlebia.sp..AV1        -0.23974  0.949532  0.270954\n",
       "Siphlonuridae...Ameletoides.sp..AV1             -0.37510  0.447808  1.313890\n",
       "Eustheniidae...Eusthenia.costalis               -0.03893 -0.535107 -0.067168\n",
       "Eustheniidae...Eusthenia.spectabilis            -0.04348  0.321468 -0.047667\n",
       "Austroperlidae...Tasmanoperla.thalia            -0.37795 -0.259455  0.793369\n",
       "Gripopterygidae...Cardioperla.diversa.edita     -0.71813 -0.691538 -0.529343\n",
       "Gripopterygidae...Cardioperla.incerta.flindersi -0.30951  0.007999 -0.685743\n",
       "Gripopterygidae...Cardioperla.media.lobata      -0.39029 -0.451869 -0.692359\n",
       "Gripopterygidae...Cardioperla.spinosa           -1.41989 -0.840914 -0.617135\n",
       "Gripopterygidae...Dinotoperla.serricauda        -0.21216 -0.309926 -0.491792\n",
       "Gripopterygidae...Leptoperla.beroe              -0.33272  1.267229  1.087529\n",
       "Gripopterygidae...Leptoperla.varia              -0.19865  0.772895  0.003856\n",
       "Gripopterygidae...Riekoperla.triloba            -0.69340 -0.618347 -0.649989\n",
       "Gripopterygidae...Trinotoperla.comprimata        0.75301  1.350545 -0.612816\n",
       "Gripopterygidae...Trinotoperla.tasmanica        -0.13518  0.847274 -0.545135\n",
       "Gripopterygidae...Trinotoperla.zwicki            0.29152 -0.076291 -0.835725\n",
       "Notonemouridae...Austrocercella.christinae      -0.33272  1.267229  1.087529\n",
       "Notonemouridae...Austrocerca.rieki              -0.43835 -1.131504  0.832177\n",
       "Notonemouridae...Austrocercoides.sp              0.07946  0.214638  0.166684\n",
       "Notonemouridae...Notonemoura.lynchi              2.83465 -0.829880  0.718675\n",
       "Notonemouridae...Tasmanocerca.bifasciata         0.78185  0.817973 -0.371389\n",
       "Atriplectididae...Atriplectides.dubius          -0.26562  1.070064  0.044917\n",
       "Calocidae...Caloca.sp.                          -0.43835 -1.131504  0.832177\n",
       "Calocidae...Tamasia.variegata                   -0.38626 -0.305420 -0.186447\n",
       "Conoesucidae...Conoesucus.brontensis             0.29007  1.868850 -0.654930\n",
       "Conoesucidae...Conoesucus.nepotulus              0.04019  1.126076  0.638606\n",
       "Conoesucidae...Conoesucus.norelus               -0.71620 -0.776880 -0.080631\n",
       "Conoesucidae...Costora.delora                   -0.72468 -0.024060 -0.791879\n",
       "Conoesucidae...Costora.krene.ramosa              0.16113  0.872450  2.295862\n",
       "Conoesucidae...Costora.luxata                   -0.24827  2.000819 -0.599516\n",
       "Conoesucidae...Hampa.patona                     -1.07252 -0.766840 -0.658430\n",
       "Conoesucidae...Lingora.aurata                   -0.47357  0.071311 -0.184936\n",
       "Conoesucidae...Matasia.satana                   -0.31758 -0.330747  0.912575\n",
       "Ecnomidae...Ecnomus.cygnitus                    -0.87630  0.213158  0.235197\n",
       "Ecnomidae...Ecnomus.russellius                  -0.88563 -1.455483  1.463217\n",
       "Ecnomidae...Ecnomus.tillyardi                   -0.41655 -0.128657  0.370447\n",
       "Ecnomidae...Ecnomus.sp.                          1.95180 -0.268722  0.682124\n",
       "Glossosomatidae...Agapetus.sp..AV1              -0.43017 -0.367946  0.093672\n",
       "Helicophidae...Alloecella.grisea                -0.25573  0.221142  1.227627\n",
       "Helicophidae...Alloecella.longispina             0.17485  1.137463 -0.583515\n",
       "Helicophidae...Alloecella.pilosa                 0.19334  0.843639 -0.264546\n",
       "Helicopsychidae...Helicopsyche.murrumba         -0.20614  0.300138  0.197740\n",
       "Hydrobiosidae...Apsilochorema.gisbum            -0.16924  0.114290  0.721430\n",
       "Hydrobiosidae...Apsilochorema.obliquum          -0.34931  0.238965 -0.704896\n",
       "Hydrobiosidae...Ethochorema.hesperium           -0.48814 -1.520809 -0.696503\n",
       "Hydrobiosidae...Ethochorema.nesydrion           -0.20880 -0.178232  1.450123\n",
       "Hydrobiosidae...Moruya.sp..AV2                  -0.34188  2.576376 -0.712419\n",
       "Hydrobiosidae...Taschorema.complex              -0.36634  0.336733  0.083725\n",
       "Hydrobiosidae...Taschorema.apobamum             -0.25545 -0.166726 -0.408909\n",
       "Hydrobiosidae...Taschorema.asmanum              -0.11432  0.272244  0.588583\n",
       "Hydrobiosidae...Taschorema.evansi               -0.25353  0.085326 -0.178876\n",
       "Hydrobiosidae...Taschorema.ferulum              -0.33647  0.003597  0.353659\n",
       "Hydrobiosidae..Taschorema.ferulum.grp           -0.06761  0.116188 -0.082059\n",
       "Hydrobiosidae...Taschorema.sp..AV1              -0.36936  1.806508 -0.709428\n",
       "Hydrobiosidae...Ulmerochorema.rubiconum         -0.47383 -0.212492 -0.099968\n",
       "Hydrobiosidae...Ulmerochorema.seona              0.75301  1.350545 -0.612816\n",
       "Hydropsychidae...Asmicridea.sp..AV1             -0.26663 -0.162733  0.352962\n",
       "Hydropsychidae...Cheumatopsyche.sp..AV3         -0.37024 -0.365562  0.790841\n",
       "Hydropsychidae...Cheumatopsyche.sp..AV4          0.90363 -0.949009  1.151262\n",
       "Hydroptilidae...Hellyethira.malleoforma          2.47272 -0.582233 -0.222303\n",
       "Hydroptilidae...Hellyethira.sp                  -0.34918 -0.275640  1.222329\n",
       "Hydroptilidae...Hydroptila.acinacis              0.56734 -0.552140 -0.799040\n",
       "Hydroptilidae...Hydroptila.sp.                  -0.64240 -0.462146 -1.002532\n",
       "Hydroptilidae...Orphninotrichia.maculata         1.35277 -1.015176 -1.530590\n",
       "Hydroptilidae...Orthotricia.sp.                 -0.16044 -0.144606 -0.283630\n",
       "Hydroptilidae...Oxyethira.mienica                1.79125 -0.309066  0.272500\n",
       "Leptoceridae...Lectrides.varians                 0.75301  1.350545 -0.612816\n",
       "Leptoceridae...Notalina.bifaria                 -0.13450  1.288792  0.427230\n",
       "Leptoceridae...Notalina.fulva                   -0.09001 -0.309258 -0.059415\n",
       "Leptoceridae...Notalina.sp..AV1                 -0.33448 -0.351917  0.348502\n",
       "Leptoceridae...Notalina.sp..AV2.3                3.28361 -0.505253  0.154780\n",
       "Leptoceridae...Notalina.sp..AV10                 2.11167  0.386886 -0.059098\n",
       "Leptoceridae...Oecetis.sp.                       3.19352 -0.570393  0.267932\n",
       "Leptoceridae...Triplectides.proximus            -0.34918 -0.275640  1.222329\n",
       "Leptoceridae...Triplectides.ciuskus.ciuskus      0.82872  0.046766  1.070234\n",
       "Leptoceridae...Triplectides.sp                  -0.43835 -1.131504  0.832177\n",
       "Leptoceridae...Notoperata.sparsa                 3.39584 -0.424096  0.013806\n",
       "Philopotamidae...Hydrobiosella.waddama          -0.29007 -0.316511 -0.462084\n",
       "Philorheithridae...Aphilorheithrus.sp.AV3       -0.50433  0.153849  0.129756\n",
       "Philorheithridae...Austrheithrus.sp.             0.16113  0.872450  2.295862\n",
       "Philorheithridae...Tasmanthrus.angustipennis    -0.07562 -0.708051  0.446617\n",
       "Philorheithridae...Tasmanthrus.sp.              -0.06128  0.230468  0.429134\n",
       "Philorheithridae...unid.tiny.philoreithrids     -0.43835 -1.131504  0.832177\n",
       "Polycentropodidae...Genus.I.sp..AV3             -0.34188  2.576376 -0.712419\n",
       "Polycentropodidae...Plectrocnemia.sp.AV1        -0.43835 -1.131504  0.832177\n",
       "Tasimiidae...Tasimia.sp.AV1                     -0.34918 -0.275640  1.222329\n",
       "                                                      CCA4      CCA5      CCA6\n",
       "Hydrozoa..Hydrozoa                              -0.3865257  0.155770  0.302355\n",
       "Turbellaria..Turbellaria                        -0.3281505  0.017939  0.017714\n",
       "Nematoda                                        -0.0516493  0.300547  0.013332\n",
       "Bivalvia..Sphaeriidae                            0.3367760  0.132997  0.018159\n",
       "Gastropoda..Hydrobiidae                          0.0290641 -0.118529 -0.337236\n",
       "Gastropoda..Physidae                            -0.2946641 -0.053808  0.273651\n",
       "Gastropoda..Lymnaeidae                          -0.3865257  0.155770  0.302355\n",
       "Gastropoda..Ancylidae                            1.0674011 -0.436301  0.216874\n",
       "Gastropoda..Glacidorbidae                       -0.3483296  1.992743  0.139910\n",
       "Oligochaeta..Oligochaeta                         0.0101547  0.028753 -0.066008\n",
       "Hirudinea..Hirudinea                            -0.3865257  0.155770  0.302355\n",
       "Acarina..Acarina                                 0.0080752 -0.168109  0.142789\n",
       "Amphipoda..Paramelitidae                        -0.5336864 -0.198430 -0.219171\n",
       "Amphipoda..Ceinidae                             -0.0484759 -0.179309  0.148267\n",
       "Amphipoda..Eusiridae                            -0.0363543 -1.158762 -1.892265\n",
       "Isopoda..Janiridae                              -1.3673917 -1.262645  0.116405\n",
       "Isopoda..Phreatoicidea                          -0.0003052  0.271867 -0.411361\n",
       "Ostracoda..Ostracoda                            -0.1129496  0.082128  0.122812\n",
       "Odonata..Telephlebiidae                         -0.8100584 -0.553348  0.602260\n",
       "Hemiptera..Veliidae                              0.1084277  0.187505  0.662801\n",
       "Hemiptera..Corixidae                            -0.1339973  0.243534  0.026883\n",
       "Hemiptera..Gerridae                              0.8268157  0.956223  0.259515\n",
       "Mecoptera..Nannochoristidae                      0.5272415 -0.062096  1.562417\n",
       "Diptera..Chironominae                            0.0095659  0.015044 -0.029309\n",
       "Diptera..Orthocladiinae                          0.0841102 -0.071320 -0.094761\n",
       "Diptera..Podonominae                            -0.9462632  0.374718  1.241476\n",
       "Diptera..Tanypodinae                             0.2043711  0.156025  0.100620\n",
       "Diptera..Diamesinae                              0.1379804 -0.218592  0.114263\n",
       "Diptera..Aphroteniinae                           0.0008335  0.392954  0.097261\n",
       "Diptera..Simuliidae                              0.0159034 -0.060917 -0.050894\n",
       "Diptera..Tipulidae                               0.1304747  0.190134 -0.270829\n",
       "Diptera..Athericidae                            -0.9444886 -0.680017  0.164758\n",
       "Diptera..Ceratopogonidae                         0.0123441 -0.106214  0.062690\n",
       "Diptera..Empididae                              -0.1010599 -0.409466 -0.246273\n",
       "Diptera..Psychodidae                            -0.4640505 -0.311876  0.701618\n",
       "Diptera..Sciomyzidae                            -0.0363543 -1.158762 -1.892265\n",
       "Diptera..Tanyderidae                            -0.6262012  0.021868  0.155336\n",
       "Diptera..Dip..Unid..Pup.                         0.0614844 -0.056255 -0.063744\n",
       "Coleoptera..ElmidaeA                            -0.0623861 -0.006739 -0.035880\n",
       "Coleoptera..HydraenidaeA                         0.5124083  0.718218 -0.824971\n",
       "Coleoptera..DytiscidaeA                         -0.4462300 -0.048524  0.034280\n",
       "Coleoptera..ElmidaeL                             0.0344373  0.001295 -0.046667\n",
       "Coleoptera..ScirtidaeL                          -0.1094461 -0.017805  0.266232\n",
       "Coleoptera..PsephenidaeL                        -0.4243326 -0.193426 -0.230767\n",
       "Coleoptera..DytiscidaeL                          0.0881158  0.484212 -0.489502\n",
       "Coleoptera..HydrophilidaeL                      -0.0363543 -1.158762 -1.892265\n",
       "Baetidae...Baetid.Genus.1.MV.sp..4               0.5124083  0.718218 -0.824971\n",
       "Baetidae...Baetid.Genus.2.MV.sp..3              -0.1736218  0.293485 -0.035409\n",
       "Baetidae...Baetid.Genus.2.MV.sp..6               0.8446130 -0.332192  0.086483\n",
       "Baetidae...Cloeon.sp.                           -0.4916515  1.269292 -0.096511\n",
       "Caenidae...Tasmanocoenis.tillyardi              -0.0638289  1.487494 -0.145056\n",
       "Caenidae...Tasmanocoenis.tonnoiri                0.1517828 -0.177211 -0.356889\n",
       "Caenidae...Tasmanocoenis.sp                      0.9874255  0.488154 -2.330292\n",
       "Leptophlebiidae...Atalophlebia.albiterminata    -0.0091627  0.069412  0.242596\n",
       "Leptophlebiidae...Atalophlebia.sp.AV6           -0.5712433  0.643858  0.283375\n",
       "Leptophlebiidae...Austrophlebioides.sp..AV4      0.3281822  0.260127  0.128272\n",
       "Leptophlebiidae...Austrophlebioides.sp..AV7     -0.3946759  1.337030  0.418170\n",
       "Leptophlebiidae...Koorrnonga.sp..AV1            -0.8986093  0.294063  0.407389\n",
       "Leptophlebiidae...Nousia.sp..AV5.6               0.0451721 -0.245781 -0.136869\n",
       "Leptophlebiidae...Nousia.sp..AV7                 0.0536238 -0.048256  0.006158\n",
       "Leptophlebiidae...Nousia.sp..AV8                 0.1195010  0.098294  0.364640\n",
       "Leptophlebiidae...Nousia.sp..AV9                -0.1692514  0.269600 -0.525286\n",
       "Leptophlebiidae...Nousia.sp..Unid                0.5124083  0.718218 -0.824971\n",
       "Leptophlebiidae...Tillyardophlebia.sp.AV2       -0.2200907  0.462914  0.191841\n",
       "Oniscigastridae...Tasmanophlebia.sp..AV1        -0.4024046  0.061012  0.523639\n",
       "Siphlonuridae...Ameletoides.sp..AV1              2.3469630 -0.790656  1.344185\n",
       "Eustheniidae...Eusthenia.costalis               -0.9235357  0.172652  0.480925\n",
       "Eustheniidae...Eusthenia.spectabilis            -0.5281851  0.251795  0.635047\n",
       "Austroperlidae...Tasmanoperla.thalia            -1.6108291 -0.938078  0.906673\n",
       "Gripopterygidae...Cardioperla.diversa.edita      0.3995585 -0.598978 -0.500797\n",
       "Gripopterygidae...Cardioperla.incerta.flindersi  0.2871128  0.149908  0.049530\n",
       "Gripopterygidae...Cardioperla.media.lobata      -0.2802682  0.355791  0.187603\n",
       "Gripopterygidae...Cardioperla.spinosa            1.0420731 -1.001149 -0.273626\n",
       "Gripopterygidae...Dinotoperla.serricauda         0.2913528 -0.227072 -0.149022\n",
       "Gripopterygidae...Leptoperla.beroe              -1.2924800  0.666463  1.780649\n",
       "Gripopterygidae...Leptoperla.varia               0.0368844  0.053966  0.674901\n",
       "Gripopterygidae...Riekoperla.triloba             0.0477050 -0.134698  0.053173\n",
       "Gripopterygidae...Trinotoperla.comprimata        2.2871076 -0.689626  1.826172\n",
       "Gripopterygidae...Trinotoperla.tasmanica         0.1888151 -0.546276 -1.353484\n",
       "Gripopterygidae...Trinotoperla.zwicki           -0.3940658 -0.385495  0.017922\n",
       "Notonemouridae...Austrocercella.christinae      -1.2924800  0.666463  1.780649\n",
       "Notonemouridae...Austrocerca.rieki               0.5076535  1.960182 -0.841896\n",
       "Notonemouridae...Austrocercoides.sp             -0.2527330  0.147888  0.188997\n",
       "Notonemouridae...Notonemoura.lynchi              0.1517828 -0.177211 -0.356889\n",
       "Notonemouridae...Tasmanocerca.bifasciata         0.9874255  0.488154 -2.330292\n",
       "Atriplectididae...Atriplectides.dubius          -0.6362525 -0.132601  0.217318\n",
       "Calocidae...Caloca.sp.                           0.5076535  1.960182 -0.841896\n",
       "Calocidae...Tamasia.variegata                    0.0986376 -0.345756  0.059993\n",
       "Conoesucidae...Conoesucus.brontensis             1.1727936  0.444532  1.113187\n",
       "Conoesucidae...Conoesucus.nepotulus              0.3982829  0.167054  0.040506\n",
       "Conoesucidae...Conoesucus.norelus                0.2133752 -0.173622 -0.011543\n",
       "Conoesucidae...Costora.delora                    0.2844669 -1.174713 -0.123156\n",
       "Conoesucidae...Costora.krene.ramosa             -0.0363543 -1.158762 -1.892265\n",
       "Conoesucidae...Costora.luxata                   -0.2311585  1.082927 -0.307747\n",
       "Conoesucidae...Hampa.patona                      0.4794803 -0.662023  0.011560\n",
       "Conoesucidae...Lingora.aurata                    0.0928153 -0.515249 -0.001205\n",
       "Conoesucidae...Matasia.satana                   -1.0463029 -0.065478  0.004020\n",
       "Ecnomidae...Ecnomus.cygnitus                    -0.1252034 -0.167343  0.753512\n",
       "Ecnomidae...Ecnomus.russellius                   1.0491517  0.529216  0.522085\n",
       "Ecnomidae...Ecnomus.tillyardi                   -1.2889617 -0.268951  0.272623\n",
       "Ecnomidae...Ecnomus.sp.                          0.7040734 -0.270699  0.429884\n",
       "Glossosomatidae...Agapetus.sp..AV1              -0.4395404 -0.234152  0.070504\n",
       "Helicophidae...Alloecella.grisea                -0.4062667 -0.973310  0.089744\n",
       "Helicophidae...Alloecella.longispina             0.5256573  0.393567  0.398697\n",
       "Helicophidae...Alloecella.pilosa                 0.8067812 -0.757985  0.419899\n",
       "Helicopsychidae...Helicopsyche.murrumba          0.2068757  0.017405 -0.305837\n",
       "Hydrobiosidae...Apsilochorema.gisbum             1.8944074 -0.317022  1.230814\n",
       "Hydrobiosidae...Apsilochorema.obliquum          -0.6784249  0.150025  0.455465\n",
       "Hydrobiosidae...Ethochorema.hesperium            0.1963879  0.845916  0.281033\n",
       "Hydrobiosidae...Ethochorema.nesydrion           -0.4542997 -0.081325 -0.580858\n",
       "Hydrobiosidae...Moruya.sp..AV2                  -0.3483296  1.992743  0.139910\n",
       "Hydrobiosidae...Taschorema.complex              -0.6735452 -0.826343 -0.986374\n",
       "Hydrobiosidae...Taschorema.apobamum             -0.6849490 -0.245278 -0.033580\n",
       "Hydrobiosidae...Taschorema.asmanum               0.0110484 -0.953621  0.637316\n",
       "Hydrobiosidae...Taschorema.evansi                0.1286292  0.025444  0.013265\n",
       "Hydrobiosidae...Taschorema.ferulum              -0.0318844  0.025704 -0.242453\n",
       "Hydrobiosidae..Taschorema.ferulum.grp            0.0429427 -0.254748 -0.023974\n",
       "Hydrobiosidae...Taschorema.sp..AV1              -0.2459762  1.777252  0.166427\n",
       "Hydrobiosidae...Ulmerochorema.rubiconum          0.4275266  0.431606  0.078770\n",
       "Hydrobiosidae...Ulmerochorema.seona              2.2871076 -0.689626  1.826172\n",
       "Hydropsychidae...Asmicridea.sp..AV1              0.3416130 -0.154270  0.183221\n",
       "Hydropsychidae...Cheumatopsyche.sp..AV3          1.1413739 -0.022530  0.815778\n",
       "Hydropsychidae...Cheumatopsyche.sp..AV4         -0.1458956  0.324045  0.124457\n",
       "Hydroptilidae...Hellyethira.malleoforma         -0.1561275 -0.167825  0.186899\n",
       "Hydroptilidae...Hellyethira.sp                  -1.8341985 -1.045395  0.991587\n",
       "Hydroptilidae...Hydroptila.acinacis             -0.1533642  0.366998  0.077458\n",
       "Hydroptilidae...Hydroptila.sp.                   0.5124083  0.718218 -0.824971\n",
       "Hydroptilidae...Orphninotrichia.maculata        -0.0605474 -0.474006  0.469357\n",
       "Hydroptilidae...Orthotricia.sp.                 -0.0919274  1.279007 -0.161337\n",
       "Hydroptilidae...Oxyethira.mienica                0.2789813  0.250650 -0.769599\n",
       "Leptoceridae...Lectrides.varians                 2.2871076 -0.689626  1.826172\n",
       "Leptoceridae...Notalina.bifaria                 -0.2922043  0.287226 -0.775894\n",
       "Leptoceridae...Notalina.fulva                    0.2284715  0.392553 -0.039105\n",
       "Leptoceridae...Notalina.sp..AV1                  0.0414326  0.075009 -0.085191\n",
       "Leptoceridae...Notalina.sp..AV2.3               -0.2788640  0.089174  0.170506\n",
       "Leptoceridae...Notalina.sp..AV10                -0.0773849  0.189678 -0.325477\n",
       "Leptoceridae...Oecetis.sp.                      -0.1924501  0.035721  0.064678\n",
       "Leptoceridae...Triplectides.proximus            -1.8341985 -1.045395  0.991587\n",
       "Leptoceridae...Triplectides.ciuskus.ciuskus      1.1862477 -0.425166  0.749085\n",
       "Leptoceridae...Triplectides.sp                   0.5076535  1.960182 -0.841896\n",
       "Leptoceridae...Notoperata.sparsa                -0.3865257  0.155770  0.302355\n",
       "Philopotamidae...Hydrobiosella.waddama          -0.7987803 -0.394388  0.331002\n",
       "Philorheithridae...Aphilorheithrus.sp.AV3       -0.9555635 -0.492933  0.279413\n",
       "Philorheithridae...Austrheithrus.sp.            -0.0363543 -1.158762 -1.892265\n",
       "Philorheithridae...Tasmanthrus.angustipennis    -0.8889033  0.709440  0.360059\n",
       "Philorheithridae...Tasmanthrus.sp.              -0.2069973 -0.530057  0.144390\n",
       "Philorheithridae...unid.tiny.philoreithrids      0.5076535  1.960182 -0.841896\n",
       "Polycentropodidae...Genus.I.sp..AV3             -0.3483296  1.992743  0.139910\n",
       "Polycentropodidae...Plectrocnemia.sp.AV1         0.5076535  1.960182 -0.841896\n",
       "Tasimiidae...Tasimia.sp.AV1                     -1.8341985 -1.045395  0.991587\n",
       "\n",
       "\n",
       "Site scores (weighted averages of species scores)\n",
       "\n",
       "       CCA1     CCA2      CCA3     CCA4    CCA5     CCA6\n",
       "1  -0.16319  1.15543  0.682982 -1.06295  0.5126  2.29289\n",
       "2  -0.62577  0.34279 -0.658154 -0.30809 -1.0138  0.41334\n",
       "3  -0.42148 -0.21355  1.054201 -1.81113 -1.2186  0.70245\n",
       "4   0.07801  0.36407  1.117501  2.46761 -0.6965  1.58593\n",
       "5  -0.52394 -0.93584  2.149260 -1.48798  1.0970  0.85515\n",
       "6  -0.18800  1.27646  2.210741  0.11708 -1.3717 -2.57432\n",
       "7  -0.25344  2.85085 -0.763697 -0.27363  1.9127 -0.22257\n",
       "8   2.60382 -0.77826  0.862955  0.48689 -0.3264 -0.15757\n",
       "9  -0.48703 -1.54025  1.805593 -0.06969  3.1898 -1.18191\n",
       "10 -0.36567  0.04141  0.362605 -0.78855 -0.7615 -0.84653\n",
       "11  0.19728  1.62876  0.008129  0.15471  0.2851 -0.71089\n",
       "19 -0.99118 -1.11955 -0.806515  0.79077 -0.8523 -0.14330\n",
       "13 -0.44333 -0.27516 -0.924408 -0.31770 -0.6152 -0.57947\n",
       "12 -0.68244 -1.30173  1.103276  1.17070  0.2203  0.50415\n",
       "14 -0.36207 -0.42632 -0.314317 -0.58202  0.7700  0.14671\n",
       "15 -0.53777 -1.28840 -0.255843 -0.36818  1.6203  0.71835\n",
       "17 -0.48268  0.37388 -0.288315 -2.31297 -1.0102  0.42464\n",
       "20 -0.58270 -0.41469 -0.745285 -0.77332 -0.7027  0.04150\n",
       "18 -0.48779 -0.30012 -1.262141  0.80228  0.3678 -0.68233\n",
       "21 -0.22705  0.08588 -0.763152  0.38169 -0.9149 -0.80681\n",
       "16  0.04688  0.06289 -0.296104  0.28774  1.7285 -0.16820\n",
       "22  4.58903 -0.73215 -0.160116 -0.85406  0.5057  0.62994\n",
       "23  0.92663 -0.62417 -1.871688  0.18258 -0.7288  0.06231\n",
       "24  0.77315  0.35005 -0.758941  0.82961  0.2023 -2.47084\n",
       "25  1.15286  0.07832 -1.462664 -0.19643 -0.3407  0.37174\n",
       "26 -0.62696 -1.19400 -0.559131  0.11333  0.4767  0.13245\n",
       "27 -0.14365  1.40629  0.014271  2.00912 -0.6118  1.61784\n",
       "\n",
       "\n",
       "Site constraints (linear combinations of constraining variables)\n",
       "\n",
       "       CCA1     CCA2     CCA3      CCA4    CCA5    CCA6\n",
       "1  -0.33272  1.26723  1.08753 -1.292480  0.6665  1.7806\n",
       "2  -0.70715  0.18730 -0.90273 -0.637816 -1.3470  0.1607\n",
       "3  -0.34918 -0.27564  1.22233 -1.834198 -1.0454  0.9916\n",
       "4  -0.37510  0.44781  1.31389  2.346963 -0.7907  1.3442\n",
       "5  -0.23232 -0.78062  1.45925 -1.206563  0.7750  0.4367\n",
       "6   0.16113  0.87245  2.29586 -0.036354 -1.1588 -1.8923\n",
       "7  -0.34188  2.57638 -0.71242 -0.348330  1.9927  0.1399\n",
       "8   2.83465 -0.82988  0.71867  0.151783 -0.1772 -0.3569\n",
       "9  -0.43835 -1.13150  0.83218  0.507654  1.9602 -0.8419\n",
       "10 -0.36634  0.33673  0.08372 -0.673545 -0.8263 -0.9864\n",
       "11  0.18540  1.60336 -0.16845  0.386326  0.2405 -1.2672\n",
       "19 -1.41989 -0.84091 -0.61713  1.042073 -1.0011 -0.2736\n",
       "13  0.11343 -0.51453 -0.42531 -0.361806 -0.1224 -0.7700\n",
       "12 -0.88563 -1.45548  1.46322  1.049152  0.5292  0.5221\n",
       "14  0.08109 -0.63548 -0.56601 -0.571243  0.6439  0.2834\n",
       "15  0.28402 -1.16325 -0.17425 -0.690208  1.5826  0.4867\n",
       "17 -0.59190  0.49191 -0.66592 -1.367392 -1.2626  0.1164\n",
       "20 -0.48111 -0.20143 -0.74444 -0.810058 -0.5533  0.6023\n",
       "18 -0.64240 -0.46215 -1.00253  0.512408  0.7182 -0.8250\n",
       "21 -0.45576  0.09119 -0.92182 -0.008696 -1.3331 -1.4397\n",
       "16 -0.19604  0.25200  0.07858  0.066742  1.8297 -0.2828\n",
       "22  3.39584 -0.42410  0.01381 -0.386526  0.1558  0.3024\n",
       "23  1.35277 -1.01518 -1.53059 -0.060547 -0.4740  0.4694\n",
       "24  0.78185  0.81797 -0.37139  0.987426  0.4882 -2.3303\n",
       "25  0.46962  0.36195 -1.24614 -0.426325 -0.6486  0.8058\n",
       "26 -0.48814 -1.52081 -0.69650  0.196388  0.8459  0.2810\n",
       "27  0.75301  1.35055 -0.61282  2.287108 -0.6896  1.8262\n",
       "\n",
       "\n",
       "Biplot scores for constraining variables\n",
       "\n",
       "                                                   CCA1      CCA2     CCA3\n",
       "Abstraction                                    0.856817 -0.003318  0.02636\n",
       "Grazing...proportion.of.total.catchment.area.  0.624853  0.193062  0.16275\n",
       "fines..proportion.substrata.                   0.117530  0.338270 -0.15782\n",
       "Temperature..oC.                               0.337480  0.445678  0.60356\n",
       "Conductivity..uS.cm.                           0.499591  0.108065 -0.04886\n",
       "average.turbidity..NTU.                        0.042226  0.629792 -0.41879\n",
       "pH                                             0.239313 -0.282397  0.18658\n",
       "Nitrate.Nitrite..mg.N.L.                      -0.206910 -0.296146  0.37261\n",
       "P.Total..mg.P.L.                               0.001009  0.192225  0.26084\n",
       "Average...shading                             -0.613952  0.224800  0.03439\n",
       "Chl.a..mg.m2.                                 -0.169485 -0.148599 -0.51586\n",
       "                                                  CCA4       CCA5     CCA6\n",
       "Abstraction                                    0.38654 -0.2162493  0.12048\n",
       "Grazing...proportion.of.total.catchment.area.  0.42080 -0.2044412 -0.40815\n",
       "fines..proportion.substrata.                   0.15492 -0.0775490  0.10231\n",
       "Temperature..oC.                               0.40923  0.0004524  0.12559\n",
       "Conductivity..uS.cm.                           0.02322 -0.3235568 -0.04868\n",
       "average.turbidity..NTU.                        0.44650  0.0173626  0.31199\n",
       "pH                                             0.06345  0.3652679 -0.02537\n",
       "Nitrate.Nitrite..mg.N.L.                       0.32212  0.2233038 -0.33997\n",
       "P.Total..mg.P.L.                               0.72160 -0.2072539  0.44283\n",
       "Average...shading                             -0.03964 -0.5399304  0.39545\n",
       "Chl.a..mg.m2.                                  0.46400 -0.3528259  0.06294\n"
      ]
     },
     "metadata": {},
     "output_type": "display_data"
    }
   ],
   "source": [
    "summary(finalmodel)\n"
   ]
  },
  {
   "cell_type": "code",
   "execution_count": 18,
   "metadata": {
    "vscode": {
     "languageId": "r"
    }
   },
   "outputs": [
    {
     "data": {
      "image/png": "[encoded data removed]",
      "text/plain": [
       "plot without title"
      ]
     },
     "metadata": {
      "image/png": {
       "height": 420,
       "width": 420
      }
     },
     "output_type": "display_data"
    }
   ],
   "source": [
    "plot(finalmodel)\n"
   ]
  },
  {
   "cell_type": "code",
   "execution_count": 19,
   "metadata": {
    "vscode": {
     "languageId": "r"
    }
   },
   "outputs": [
    {
     "name": "stdout",
     "output_type": "stream",
     "text": [
      "                                  Abstraction \n",
      "                                     3.536757 \n",
      "Grazing...proportion.of.total.catchment.area. \n",
      "                                     6.799625 \n",
      "                 fines..proportion.substrata. \n",
      "                                     3.774949 \n",
      "                             Temperature..oC. \n",
      "                                     3.377887 \n",
      "                         Conductivity..uS.cm. \n",
      "                                     1.700251 \n",
      "                      average.turbidity..NTU. \n",
      "                                     2.220910 \n",
      "                                           pH \n",
      "                                     1.553223 \n",
      "                     Nitrate.Nitrite..mg.N.L. \n",
      "                                     1.512478 \n",
      "                             P.Total..mg.P.L. \n",
      "                                     2.329517 \n",
      "                            Average...shading \n",
      "                                     3.756599 \n",
      "                                Chl.a..mg.m2. \n",
      "                                     1.809117 \n"
     ]
    }
   ],
   "source": [
    "print(vif.cca(finalmodel))\n"
   ]
  },
  {
   "cell_type": "markdown",
   "metadata": {},
   "source": [
    "Variance Inflation Factors look OK (all VIFs < 10)"
   ]
  },
  {
   "cell_type": "code",
   "execution_count": 20,
   "metadata": {
    "vscode": {
     "languageId": "r"
    }
   },
   "outputs": [
    {
     "name": "stdout",
     "output_type": "stream",
     "text": [
      "Permutation test for cca under reduced model\n",
      "Permutation: free\n",
      "Number of permutations: 999\n",
      "\n",
      "Model: cca(formula = fauna_num ~ Abstraction + Grazing...proportion.of.total.catchment.area. + fines..proportion.substrata. + Temperature..oC. + Conductivity..uS.cm. + average.turbidity..NTU. + pH + Nitrate.Nitrite..mg.N.L. + P.Total..mg.P.L. + Average...shading + Chl.a..mg.m2., data = env_num)\n",
      "         Df ChiSquare      F Pr(>F)   \n",
      "Model    11    1.2295 1.2501  0.009 **\n",
      "Residual 15    1.3411                 \n",
      "---\n",
      "Signif. codes:  0 '***' 0.001 '**' 0.01 '*' 0.05 '.' 0.1 ' ' 1\n"
     ]
    }
   ],
   "source": [
    "# Testing the significance of the obtained CCA model\n",
    "print(anova.cca(finalmodel))\n"
   ]
  },
  {
   "cell_type": "code",
   "execution_count": 21,
   "metadata": {
    "vscode": {
     "languageId": "r"
    }
   },
   "outputs": [
    {
     "name": "stdout",
     "output_type": "stream",
     "text": [
      "Permutation test for cca under reduced model\n",
      "Terms added sequentially (first to last)\n",
      "Permutation: free\n",
      "Number of permutations: 999\n",
      "\n",
      "Model: cca(formula = fauna_num ~ Abstraction + Grazing...proportion.of.total.catchment.area. + fines..proportion.substrata. + Temperature..oC. + Conductivity..uS.cm. + average.turbidity..NTU. + pH + Nitrate.Nitrite..mg.N.L. + P.Total..mg.P.L. + Average...shading + Chl.a..mg.m2., data = env_num)\n",
      "                                              Df ChiSquare      F Pr(>F)    \n",
      "Abstraction                                    1   0.23737 2.6548  0.001 ***\n",
      "Grazing...proportion.of.total.catchment.area.  1   0.09165 1.0251  0.363    \n",
      "fines..proportion.substrata.                   1   0.08662 0.9689  0.512    \n",
      "Temperature..oC.                               1   0.12907 1.4436  0.038 *  \n",
      "Conductivity..uS.cm.                           1   0.07609 0.8511  0.679    \n",
      "average.turbidity..NTU.                        1   0.12929 1.4461  0.037 *  \n",
      "pH                                             1   0.08473 0.9477  0.526    \n",
      "Nitrate.Nitrite..mg.N.L.                       1   0.10131 1.1331  0.253    \n",
      "P.Total..mg.P.L.                               1   0.10163 1.1367  0.234    \n",
      "Average...shading                              1   0.10424 1.1659  0.188    \n",
      "Chl.a..mg.m2.                                  1   0.08749 0.9785  0.442    \n",
      "Residual                                      15   1.34114                  \n",
      "---\n",
      "Signif. codes:  0 '***' 0.001 '**' 0.01 '*' 0.05 '.' 0.1 ' ' 1\n"
     ]
    }
   ],
   "source": [
    "# Testing the significance of terms (environmental variables)\n",
    "print(anova(finalmodel, by = \"term\"))\n"
   ]
  },
  {
   "cell_type": "markdown",
   "metadata": {},
   "source": [
    "## Conclusion\n",
    "\n",
    "Descpite the unconstrained intertia proprtion is slightly bigger than the constrained one, the obtained CCA model is statistically significant. Which means that external factors play a crutial role in formation of populations. \n",
    "\n",
    "External factors have the greatest influence on changes in the composition of flora and fauna are **abstraction**, **temperature** and **average turbidity**."
   ]
  }
 ],
 "metadata": {
  "kernelspec": {
   "display_name": "R",
   "language": "R",
   "name": "ir"
  },
  "language_info": {
   "codemirror_mode": "r",
   "file_extension": ".r",
   "mimetype": "text/x-r-source",
   "name": "R",
   "pygments_lexer": "r",
   "version": "4.3.3"
  }
 },
 "nbformat": 4,
 "nbformat_minor": 2
}
